{
  "cells": [
    {
      "attachments": {},
      "cell_type": "markdown",
      "metadata": {
        "id": "ZwaLK4kD1Uar"
      },
      "source": [
        "#Introduction\n",
        "\n",
        "This notebook has all the code you need to create your own chatbot with custom knowledge base using GPT-3. \n",
        "\n",
        "Follow the instructions for each steps and then run the code sample. In order to run the code, you need to press \"play\" button near each code sample."
      ]
    },
    {
      "attachments": {},
      "cell_type": "markdown",
      "metadata": {
        "id": "rD4Qzglp3J-h"
      },
      "source": [
        "#Download the data for your custom knowledge base\n",
        "For the demonstration purposes we are going to use ----- as our knowledge base. You can download them to your local folder from the github repository by running the code below.\n",
        "Alternatively, you can put your own custom data into the local folder. "
      ]
    },
    {
      "cell_type": "code",
      "execution_count": null,
      "metadata": {
        "colab": {
          "base_uri": "https://localhost:8080/"
        },
        "id": "3cCyU-vV5Yb0",
        "outputId": "3541b6ac-ae15-4ea7-8fc1-c710820d26a3"
      },
      "outputs": [
        {
          "name": "stdout",
          "output_type": "stream",
          "text": [
            "Cloning into 'context_data'...\n",
            "remote: Enumerating objects: 30, done.\u001b[K\n",
            "remote: Total 30 (delta 0), reused 0 (delta 0), pack-reused 30\u001b[K\n",
            "Unpacking objects: 100% (30/30), 12.56 KiB | 218.00 KiB/s, done.\n"
          ]
        }
      ],
      "source": [
        "! git clone https://github.com/irina1nik/context_data.git"
      ]
    },
    {
      "attachments": {},
      "cell_type": "markdown",
      "metadata": {
        "id": "XiUyHP4T2g5F"
      },
      "source": [
        "# Install the dependicies\n",
        "Run the code below to install the depencies we need for our functions"
      ]
    },
    {
      "cell_type": "code",
      "execution_count": 3,
      "metadata": {
        "id": "6LL4rxT6_W7h"
      },
      "outputs": [
        {
          "name": "stdout",
          "output_type": "stream",
          "text": [
            "Requirement already satisfied: llama-index==0.5.6 in c:\\users\\natha\\.conda\\envs\\chat-env\\lib\\site-packages (0.5.6)\n",
            "Requirement already satisfied: dataclasses-json in c:\\users\\natha\\.conda\\envs\\chat-env\\lib\\site-packages (from llama-index==0.5.6) (0.5.7)\n",
            "Requirement already satisfied: langchain in c:\\users\\natha\\.conda\\envs\\chat-env\\lib\\site-packages (from llama-index==0.5.6) (0.0.148)\n",
            "Requirement already satisfied: numpy in c:\\users\\natha\\.conda\\envs\\chat-env\\lib\\site-packages (from llama-index==0.5.6) (1.24.3)\n",
            "Requirement already satisfied: tenacity<9.0.0,>=8.2.0 in c:\\users\\natha\\.conda\\envs\\chat-env\\lib\\site-packages (from llama-index==0.5.6) (8.2.2)\n",
            "Requirement already satisfied: openai>=0.26.4 in c:\\users\\natha\\.conda\\envs\\chat-env\\lib\\site-packages (from llama-index==0.5.6) (0.27.7)\n",
            "Requirement already satisfied: pandas in c:\\users\\natha\\.conda\\envs\\chat-env\\lib\\site-packages (from llama-index==0.5.6) (2.0.1)\n",
            "Requirement already satisfied: tiktoken in c:\\users\\natha\\.conda\\envs\\chat-env\\lib\\site-packages (from llama-index==0.5.6) (0.4.0)\n",
            "Requirement already satisfied: requests>=2.20 in c:\\users\\natha\\.conda\\envs\\chat-env\\lib\\site-packages (from openai>=0.26.4->llama-index==0.5.6) (2.31.0)\n",
            "Requirement already satisfied: tqdm in c:\\users\\natha\\.conda\\envs\\chat-env\\lib\\site-packages (from openai>=0.26.4->llama-index==0.5.6) (4.65.0)\n",
            "Requirement already satisfied: aiohttp in c:\\users\\natha\\.conda\\envs\\chat-env\\lib\\site-packages (from openai>=0.26.4->llama-index==0.5.6) (3.8.4)\n",
            "Requirement already satisfied: marshmallow<4.0.0,>=3.3.0 in c:\\users\\natha\\.conda\\envs\\chat-env\\lib\\site-packages (from dataclasses-json->llama-index==0.5.6) (3.19.0)\n",
            "Requirement already satisfied: marshmallow-enum<2.0.0,>=1.5.1 in c:\\users\\natha\\.conda\\envs\\chat-env\\lib\\site-packages (from dataclasses-json->llama-index==0.5.6) (1.5.1)\n",
            "Requirement already satisfied: typing-inspect>=0.4.0 in c:\\users\\natha\\.conda\\envs\\chat-env\\lib\\site-packages (from dataclasses-json->llama-index==0.5.6) (0.9.0)\n",
            "Requirement already satisfied: PyYAML>=5.4.1 in c:\\users\\natha\\.conda\\envs\\chat-env\\lib\\site-packages (from langchain->llama-index==0.5.6) (6.0)\n",
            "Requirement already satisfied: SQLAlchemy<2,>=1 in c:\\users\\natha\\.conda\\envs\\chat-env\\lib\\site-packages (from langchain->llama-index==0.5.6) (1.4.48)\n",
            "Requirement already satisfied: numexpr<3.0.0,>=2.8.4 in c:\\users\\natha\\.conda\\envs\\chat-env\\lib\\site-packages (from langchain->llama-index==0.5.6) (2.8.4)\n",
            "Requirement already satisfied: openapi-schema-pydantic<2.0,>=1.2 in c:\\users\\natha\\.conda\\envs\\chat-env\\lib\\site-packages (from langchain->llama-index==0.5.6) (1.2.4)\n",
            "Requirement already satisfied: pydantic<2,>=1 in c:\\users\\natha\\.conda\\envs\\chat-env\\lib\\site-packages (from langchain->llama-index==0.5.6) (1.10.8)\n",
            "Requirement already satisfied: python-dateutil>=2.8.2 in c:\\users\\natha\\.conda\\envs\\chat-env\\lib\\site-packages (from pandas->llama-index==0.5.6) (2.8.2)\n",
            "Requirement already satisfied: pytz>=2020.1 in c:\\users\\natha\\.conda\\envs\\chat-env\\lib\\site-packages (from pandas->llama-index==0.5.6) (2023.3)\n",
            "Requirement already satisfied: tzdata>=2022.1 in c:\\users\\natha\\.conda\\envs\\chat-env\\lib\\site-packages (from pandas->llama-index==0.5.6) (2023.3)\n",
            "Requirement already satisfied: regex>=2022.1.18 in c:\\users\\natha\\.conda\\envs\\chat-env\\lib\\site-packages (from tiktoken->llama-index==0.5.6) (2023.5.5)\n",
            "Requirement already satisfied: attrs>=17.3.0 in c:\\users\\natha\\.conda\\envs\\chat-env\\lib\\site-packages (from aiohttp->openai>=0.26.4->llama-index==0.5.6) (23.1.0)\n",
            "Requirement already satisfied: charset-normalizer<4.0,>=2.0 in c:\\users\\natha\\.conda\\envs\\chat-env\\lib\\site-packages (from aiohttp->openai>=0.26.4->llama-index==0.5.6) (3.1.0)\n",
            "Requirement already satisfied: multidict<7.0,>=4.5 in c:\\users\\natha\\.conda\\envs\\chat-env\\lib\\site-packages (from aiohttp->openai>=0.26.4->llama-index==0.5.6) (6.0.4)\n",
            "Requirement already satisfied: async-timeout<5.0,>=4.0.0a3 in c:\\users\\natha\\.conda\\envs\\chat-env\\lib\\site-packages (from aiohttp->openai>=0.26.4->llama-index==0.5.6) (4.0.2)\n",
            "Requirement already satisfied: yarl<2.0,>=1.0 in c:\\users\\natha\\.conda\\envs\\chat-env\\lib\\site-packages (from aiohttp->openai>=0.26.4->llama-index==0.5.6) (1.9.2)\n",
            "Requirement already satisfied: frozenlist>=1.1.1 in c:\\users\\natha\\.conda\\envs\\chat-env\\lib\\site-packages (from aiohttp->openai>=0.26.4->llama-index==0.5.6) (1.3.3)\n",
            "Requirement already satisfied: aiosignal>=1.1.2 in c:\\users\\natha\\.conda\\envs\\chat-env\\lib\\site-packages (from aiohttp->openai>=0.26.4->llama-index==0.5.6) (1.3.1)\n",
            "Requirement already satisfied: packaging>=17.0 in c:\\users\\natha\\.conda\\envs\\chat-env\\lib\\site-packages (from marshmallow<4.0.0,>=3.3.0->dataclasses-json->llama-index==0.5.6) (23.1)\n",
            "Requirement already satisfied: typing-extensions>=4.2.0 in c:\\users\\natha\\.conda\\envs\\chat-env\\lib\\site-packages (from pydantic<2,>=1->langchain->llama-index==0.5.6) (4.6.2)\n",
            "Requirement already satisfied: six>=1.5 in c:\\users\\natha\\.conda\\envs\\chat-env\\lib\\site-packages (from python-dateutil>=2.8.2->pandas->llama-index==0.5.6) (1.16.0)\n",
            "Requirement already satisfied: idna<4,>=2.5 in c:\\users\\natha\\.conda\\envs\\chat-env\\lib\\site-packages (from requests>=2.20->openai>=0.26.4->llama-index==0.5.6) (3.4)\n",
            "Requirement already satisfied: urllib3<3,>=1.21.1 in c:\\users\\natha\\.conda\\envs\\chat-env\\lib\\site-packages (from requests>=2.20->openai>=0.26.4->llama-index==0.5.6) (2.0.2)\n",
            "Requirement already satisfied: certifi>=2017.4.17 in c:\\users\\natha\\.conda\\envs\\chat-env\\lib\\site-packages (from requests>=2.20->openai>=0.26.4->llama-index==0.5.6) (2023.5.7)\n",
            "Requirement already satisfied: greenlet!=0.4.17 in c:\\users\\natha\\.conda\\envs\\chat-env\\lib\\site-packages (from SQLAlchemy<2,>=1->langchain->llama-index==0.5.6) (2.0.2)\n",
            "Requirement already satisfied: colorama in c:\\users\\natha\\.conda\\envs\\chat-env\\lib\\site-packages (from tqdm->openai>=0.26.4->llama-index==0.5.6) (0.4.6)\n",
            "Requirement already satisfied: mypy-extensions>=0.3.0 in c:\\users\\natha\\.conda\\envs\\chat-env\\lib\\site-packages (from typing-inspect>=0.4.0->dataclasses-json->llama-index==0.5.6) (1.0.0)\n",
            "Requirement already satisfied: langchain==0.0.148 in c:\\users\\natha\\.conda\\envs\\chat-env\\lib\\site-packages (0.0.148)\n",
            "Requirement already satisfied: PyYAML>=5.4.1 in c:\\users\\natha\\.conda\\envs\\chat-env\\lib\\site-packages (from langchain==0.0.148) (6.0)\n",
            "Requirement already satisfied: SQLAlchemy<2,>=1 in c:\\users\\natha\\.conda\\envs\\chat-env\\lib\\site-packages (from langchain==0.0.148) (1.4.48)\n",
            "Requirement already satisfied: aiohttp<4.0.0,>=3.8.3 in c:\\users\\natha\\.conda\\envs\\chat-env\\lib\\site-packages (from langchain==0.0.148) (3.8.4)\n",
            "Requirement already satisfied: dataclasses-json<0.6.0,>=0.5.7 in c:\\users\\natha\\.conda\\envs\\chat-env\\lib\\site-packages (from langchain==0.0.148) (0.5.7)\n",
            "Requirement already satisfied: numexpr<3.0.0,>=2.8.4 in c:\\users\\natha\\.conda\\envs\\chat-env\\lib\\site-packages (from langchain==0.0.148) (2.8.4)\n",
            "Requirement already satisfied: numpy<2,>=1 in c:\\users\\natha\\.conda\\envs\\chat-env\\lib\\site-packages (from langchain==0.0.148) (1.24.3)\n",
            "Requirement already satisfied: openapi-schema-pydantic<2.0,>=1.2 in c:\\users\\natha\\.conda\\envs\\chat-env\\lib\\site-packages (from langchain==0.0.148) (1.2.4)\n",
            "Requirement already satisfied: pydantic<2,>=1 in c:\\users\\natha\\.conda\\envs\\chat-env\\lib\\site-packages (from langchain==0.0.148) (1.10.8)\n",
            "Requirement already satisfied: requests<3,>=2 in c:\\users\\natha\\.conda\\envs\\chat-env\\lib\\site-packages (from langchain==0.0.148) (2.31.0)\n",
            "Requirement already satisfied: tenacity<9.0.0,>=8.1.0 in c:\\users\\natha\\.conda\\envs\\chat-env\\lib\\site-packages (from langchain==0.0.148) (8.2.2)\n",
            "Requirement already satisfied: tqdm>=4.48.0 in c:\\users\\natha\\.conda\\envs\\chat-env\\lib\\site-packages (from langchain==0.0.148) (4.65.0)\n",
            "Requirement already satisfied: attrs>=17.3.0 in c:\\users\\natha\\.conda\\envs\\chat-env\\lib\\site-packages (from aiohttp<4.0.0,>=3.8.3->langchain==0.0.148) (23.1.0)\n",
            "Requirement already satisfied: charset-normalizer<4.0,>=2.0 in c:\\users\\natha\\.conda\\envs\\chat-env\\lib\\site-packages (from aiohttp<4.0.0,>=3.8.3->langchain==0.0.148) (3.1.0)\n",
            "Requirement already satisfied: multidict<7.0,>=4.5 in c:\\users\\natha\\.conda\\envs\\chat-env\\lib\\site-packages (from aiohttp<4.0.0,>=3.8.3->langchain==0.0.148) (6.0.4)\n",
            "Requirement already satisfied: async-timeout<5.0,>=4.0.0a3 in c:\\users\\natha\\.conda\\envs\\chat-env\\lib\\site-packages (from aiohttp<4.0.0,>=3.8.3->langchain==0.0.148) (4.0.2)\n",
            "Requirement already satisfied: yarl<2.0,>=1.0 in c:\\users\\natha\\.conda\\envs\\chat-env\\lib\\site-packages (from aiohttp<4.0.0,>=3.8.3->langchain==0.0.148) (1.9.2)\n",
            "Requirement already satisfied: frozenlist>=1.1.1 in c:\\users\\natha\\.conda\\envs\\chat-env\\lib\\site-packages (from aiohttp<4.0.0,>=3.8.3->langchain==0.0.148) (1.3.3)\n",
            "Requirement already satisfied: aiosignal>=1.1.2 in c:\\users\\natha\\.conda\\envs\\chat-env\\lib\\site-packages (from aiohttp<4.0.0,>=3.8.3->langchain==0.0.148) (1.3.1)\n",
            "Requirement already satisfied: marshmallow<4.0.0,>=3.3.0 in c:\\users\\natha\\.conda\\envs\\chat-env\\lib\\site-packages (from dataclasses-json<0.6.0,>=0.5.7->langchain==0.0.148) (3.19.0)\n",
            "Requirement already satisfied: marshmallow-enum<2.0.0,>=1.5.1 in c:\\users\\natha\\.conda\\envs\\chat-env\\lib\\site-packages (from dataclasses-json<0.6.0,>=0.5.7->langchain==0.0.148) (1.5.1)\n",
            "Requirement already satisfied: typing-inspect>=0.4.0 in c:\\users\\natha\\.conda\\envs\\chat-env\\lib\\site-packages (from dataclasses-json<0.6.0,>=0.5.7->langchain==0.0.148) (0.9.0)\n",
            "Requirement already satisfied: typing-extensions>=4.2.0 in c:\\users\\natha\\.conda\\envs\\chat-env\\lib\\site-packages (from pydantic<2,>=1->langchain==0.0.148) (4.6.2)\n",
            "Requirement already satisfied: idna<4,>=2.5 in c:\\users\\natha\\.conda\\envs\\chat-env\\lib\\site-packages (from requests<3,>=2->langchain==0.0.148) (3.4)\n",
            "Requirement already satisfied: urllib3<3,>=1.21.1 in c:\\users\\natha\\.conda\\envs\\chat-env\\lib\\site-packages (from requests<3,>=2->langchain==0.0.148) (2.0.2)\n",
            "Requirement already satisfied: certifi>=2017.4.17 in c:\\users\\natha\\.conda\\envs\\chat-env\\lib\\site-packages (from requests<3,>=2->langchain==0.0.148) (2023.5.7)\n",
            "Requirement already satisfied: greenlet!=0.4.17 in c:\\users\\natha\\.conda\\envs\\chat-env\\lib\\site-packages (from SQLAlchemy<2,>=1->langchain==0.0.148) (2.0.2)\n",
            "Requirement already satisfied: colorama in c:\\users\\natha\\.conda\\envs\\chat-env\\lib\\site-packages (from tqdm>=4.48.0->langchain==0.0.148) (0.4.6)\n",
            "Requirement already satisfied: packaging>=17.0 in c:\\users\\natha\\.conda\\envs\\chat-env\\lib\\site-packages (from marshmallow<4.0.0,>=3.3.0->dataclasses-json<0.6.0,>=0.5.7->langchain==0.0.148) (23.1)\n",
            "Requirement already satisfied: mypy-extensions>=0.3.0 in c:\\users\\natha\\.conda\\envs\\chat-env\\lib\\site-packages (from typing-inspect>=0.4.0->dataclasses-json<0.6.0,>=0.5.7->langchain==0.0.148) (1.0.0)\n"
          ]
        }
      ],
      "source": [
        "!pip install llama-index==0.5.6\n",
        "!pip install langchain==0.0.148"
      ]
    },
    {
      "attachments": {},
      "cell_type": "markdown",
      "metadata": {
        "id": "FbuYetOy25eM"
      },
      "source": [
        "# Define the functions\n",
        "The following code defines the functions we need to construct the index and query it"
      ]
    },
    {
      "cell_type": "code",
      "execution_count": 4,
      "metadata": {
        "id": "UelAqQgk_yIt"
      },
      "outputs": [],
      "source": [
        "from llama_index import SimpleDirectoryReader, GPTListIndex, readers, GPTSimpleVectorIndex, LLMPredictor, PromptHelper, ServiceContext\n",
        "from langchain import OpenAI\n",
        "import sys\n",
        "import os\n",
        "from IPython.display import Markdown, display\n",
        "\n",
        "def construct_index(directory_path):\n",
        "    # set maximum input size\n",
        "    max_input_size = 4096\n",
        "    # set number of output tokens\n",
        "    num_outputs = 2000\n",
        "    # set maximum chunk overlap\n",
        "    max_chunk_overlap = 20\n",
        "    # set chunk size limit\n",
        "    chunk_size_limit = 600 \n",
        "\n",
        "    # define prompt helper\n",
        "    prompt_helper = PromptHelper(max_input_size, num_outputs, max_chunk_overlap, chunk_size_limit=chunk_size_limit)\n",
        "\n",
        "    # define LLM\n",
        "    llm_predictor = LLMPredictor(llm=OpenAI(temperature=0.5, model_name=\"text-davinci-003\", max_tokens=num_outputs))\n",
        " \n",
        "    documents = SimpleDirectoryReader(directory_path).load_data()\n",
        "    \n",
        "    service_context = ServiceContext.from_defaults(llm_predictor=llm_predictor, prompt_helper=prompt_helper)\n",
        "    index = GPTSimpleVectorIndex.from_documents(documents, service_context=service_context)\n",
        "\n",
        "    index.save_to_disk('index.json')\n",
        "\n",
        "    return index\n",
        "\n",
        "def ask_ai():\n",
        "    index = GPTSimpleVectorIndex.load_from_disk('index.json')\n",
        "    while True: \n",
        "        query = input(\"What do you want to ask? \")\n",
        "        response = index.query(query)\n",
        "        display(Markdown(f\"Response: <b>{response.response}</b>\"))"
      ]
    },
    {
      "attachments": {},
      "cell_type": "markdown",
      "metadata": {
        "id": "Vz1jp33jGumu"
      },
      "source": [
        "# Set OpenAI API Key\n",
        "You need an OPENAI API key to be able to run this code.\n",
        "\n",
        "If you don't have one yet, get it by [signing up](https://platform.openai.com/overview). Then click your account icon on the top right of the screen and select \"View API Keys\". Create an API key.\n",
        "\n",
        "Then run the code below and paste your API key into the text input."
      ]
    },
    {
      "cell_type": "code",
      "execution_count": 5,
      "metadata": {
        "id": "RoJHE4fsAT3w"
      },
      "outputs": [],
      "source": [
        "os.environ[\"OPENAI_API_KEY\"] = input(\"Paste your OpenAI key here and hit enter:\")"
      ]
    },
    {
      "attachments": {},
      "cell_type": "markdown",
      "metadata": {
        "id": "ZVrddlAL4I_v"
      },
      "source": [
        "#Construct an index\n",
        "Now we are ready to construct the index. This will take every file in the folder 'data', split it into chunks, and embed it with OpenAI's embeddings API.\n",
        "\n",
        "**Notice:** running this code will cost you credits on your OpenAPI account ($0.02 for every 1,000 tokens). If you've just set up your account, the free credits that you have should be more than enough for this experiment."
      ]
    },
    {
      "cell_type": "code",
      "execution_count": 6,
      "metadata": {
        "id": "kCYTE2EqBB7O"
      },
      "outputs": [
        {
          "name": "stderr",
          "output_type": "stream",
          "text": [
            "INFO:llama_index.token_counter.token_counter:> [build_index_from_nodes] Total LLM token usage: 0 tokens\n",
            "INFO:llama_index.token_counter.token_counter:> [build_index_from_nodes] Total embedding token usage: 3938 tokens\n"
          ]
        },
        {
          "data": {
            "text/plain": [
              "<llama_index.indices.vector_store.vector_indices.GPTSimpleVectorIndex at 0x2217d619090>"
            ]
          },
          "execution_count": 6,
          "metadata": {},
          "output_type": "execute_result"
        }
      ],
      "source": [
        "construct_index(\"context_data/data\")"
      ]
    },
    {
      "attachments": {},
      "cell_type": "markdown",
      "metadata": {
        "id": "ipJ_gYxN5cWh"
      },
      "source": [
        "#Ask questions\n",
        "It's time to have fun and test our AI. Run the function that queries GPT and type your question into the input. \n",
        "\n",
        "If you've used the provided example data for your custom knowledge base, here are a few questions that you can ask:\n",
        "1. Why people cook at home? Make classification\n",
        "2. Make classification about what frustrates people about cooking?\n",
        "3. Brainstorm marketing campaign ideas for an air fryer that would appeal people that cook at home\n",
        "4. Which kitchen appliences people use most often?\n",
        "5. What people like about cooking at home?"
      ]
    },
    {
      "cell_type": "code",
      "execution_count": 7,
      "metadata": {
        "colab": {
          "background_save": true
        },
        "id": "s_uwsPGEIGsb"
      },
      "outputs": [
        {
          "name": "stderr",
          "output_type": "stream",
          "text": [
            "INFO:llama_index.token_counter.token_counter:> [query] Total LLM token usage: 263 tokens\n",
            "INFO:llama_index.token_counter.token_counter:> [query] Total embedding token usage: 9 tokens\n"
          ]
        },
        {
          "data": {
            "text/markdown": [
              "Response: <b>\n",
              "The maximum power of a Toyota Supra is 285 kW @ 5800-6500 r/min.</b>"
            ],
            "text/plain": [
              "<IPython.core.display.Markdown object>"
            ]
          },
          "metadata": {},
          "output_type": "display_data"
        },
        {
          "name": "stderr",
          "output_type": "stream",
          "text": [
            "INFO:llama_index.token_counter.token_counter:> [query] Total LLM token usage: 249 tokens\n",
            "INFO:llama_index.token_counter.token_counter:> [query] Total embedding token usage: 6 tokens\n"
          ]
        },
        {
          "data": {
            "text/markdown": [
              "Response: <b>\n",
              "500 Nm @ 1800-5000 r/min</b>"
            ],
            "text/plain": [
              "<IPython.core.display.Markdown object>"
            ]
          },
          "metadata": {},
          "output_type": "display_data"
        },
        {
          "name": "stderr",
          "output_type": "stream",
          "text": [
            "INFO:llama_index.token_counter.token_counter:> [query] Total LLM token usage: 254 tokens\n",
            "INFO:llama_index.token_counter.token_counter:> [query] Total embedding token usage: 13 tokens\n"
          ]
        },
        {
          "data": {
            "text/markdown": [
              "Response: <b>\n",
              "Rear Wheel Drive (RWD)</b>"
            ],
            "text/plain": [
              "<IPython.core.display.Markdown object>"
            ]
          },
          "metadata": {},
          "output_type": "display_data"
        },
        {
          "name": "stderr",
          "output_type": "stream",
          "text": [
            "INFO:llama_index.token_counter.token_counter:> [query] Total LLM token usage: 252 tokens\n",
            "INFO:llama_index.token_counter.token_counter:> [query] Total embedding token usage: 5 tokens\n"
          ]
        },
        {
          "data": {
            "text/markdown": [
              "Response: <b>\n",
              "No, the Toyota GR Supra is a 2 door coupe.</b>"
            ],
            "text/plain": [
              "<IPython.core.display.Markdown object>"
            ]
          },
          "metadata": {},
          "output_type": "display_data"
        }
      ],
      "source": [
        "ask_ai()"
      ]
    },
    {
      "cell_type": "code",
      "execution_count": null,
      "metadata": {},
      "outputs": [],
      "source": []
    }
  ],
  "metadata": {
    "colab": {
      "provenance": []
    },
    "kernelspec": {
      "display_name": "Python 3",
      "name": "python3"
    },
    "language_info": {
      "codemirror_mode": {
        "name": "ipython",
        "version": 3
      },
      "file_extension": ".py",
      "mimetype": "text/x-python",
      "name": "python",
      "nbconvert_exporter": "python",
      "pygments_lexer": "ipython3",
      "version": "3.11.3"
    }
  },
  "nbformat": 4,
  "nbformat_minor": 0
}
